{
  "nbformat": 4,
  "nbformat_minor": 0,
  "metadata": {
    "colab": {
      "provenance": [],
      "collapsed_sections": [
        "Zg9PvT2a7OxE"
      ],
      "include_colab_link": true
    },
    "kernelspec": {
      "name": "python3",
      "display_name": "Python 3"
    },
    "language_info": {
      "name": "python"
    }
  },
  "cells": [
    {
      "cell_type": "markdown",
      "metadata": {
        "id": "view-in-github",
        "colab_type": "text"
      },
      "source": [
        "<a href=\"https://colab.research.google.com/github/SadeenAlsabbagh/Computational_Physics/blob/main/Sadeen_Alsabbagh_In_Class_Electric_Potential_Pt_3.ipynb\" target=\"_parent\"><img src=\"https://colab.research.google.com/assets/colab-badge.svg\" alt=\"Open In Colab\"/></a>"
      ]
    },
    {
      "cell_type": "code",
      "execution_count": null,
      "metadata": {
        "id": "aPooNcBh1SoY"
      },
      "outputs": [],
      "source": [
        "import numpy as np\n",
        "import matplotlib.pyplot as plt\n",
        "from matplotlib import ticker"
      ]
    },
    {
      "cell_type": "markdown",
      "source": [
        "# Introduction to the Laplace Equation"
      ],
      "metadata": {
        "id": "mjONQLnh7A8I"
      }
    },
    {
      "cell_type": "markdown",
      "source": [
        "\n",
        "\n",
        "The gradient is a vector operator, defined as:\n",
        "$\\nabla=\\frac{\\partial}{\\partial x} \\hat{x}+ \\frac{\\partial}{\\partial y} \\hat{y}+ \\frac{\\partial}{\\partial z} \\hat{z}.$\n",
        "\n",
        "Another way to find the gravitational force on an object is to find $\\vec{F}=-\\nabla U$.\n",
        "\n",
        "For $U=mgy$,\n",
        "\\begin{eqnarray}\\vec{F}&=&-\\nabla U\\\\\n",
        "    &=&-\\left(\\frac{\\partial}{\\partial x} \\hat{x}+ \\frac{\\partial}{\\partial y} \\hat{y}+ \\frac{\\partial}{\\partial z} \\hat{z}\\right)U\\\\\n",
        "    &=&-\\left(\\frac{\\partial U}{\\partial x} \\hat{x}+ \\frac{\\partial U}{\\partial y} \\hat{y}+ \\frac{\\partial U}{\\partial z} \\hat{z}\\right)\n",
        "\\end{eqnarray}\n",
        "\n",
        "Since $U$ depends only on $y$, all terms are zero except for\n",
        "\\begin{eqnarray}\n",
        "    \\vec{F}&=&-\\frac{\\partial U}{\\partial y} \\hat{y}\\\\\n",
        "    &=&-\\frac{\\partial (mgy)}{\\partial y} \\hat{y}\\\\\n",
        "    &=&- mg \\hat{y}\\\\\n",
        "\\end{eqnarray}\n",
        "\n",
        "Now, thinking in terms of our gravitational field $\\vec{\\Gamma}$,\n",
        "\\begin{eqnarray}\n",
        "m\\vec{\\Gamma} &=& \\vec{F}\\\\\n",
        "\\vec{\\Gamma} &=& \\frac{\\vec{F}}{m}\n",
        "\\\\\n",
        " &=& \\frac{-\\nabla{U}}{m} \\\\\n",
        "  &=& \\frac{-\\nabla{(mgy)}}{m} \\\\\n",
        "    &=& -\\nabla(gy)\\\\\n",
        "        &=& -\\nabla V\n",
        "\\end{eqnarray}\n",
        "as we defined the potential $V$ before.\n",
        "\n",
        "Now, consider electric field, which exerts a force $\\vec{F}$ on a particle with a charge $q$:\n",
        "\\begin{eqnarray}\n",
        "    \\vec{E}=\\frac{\\vec{F}}{q}.\n",
        "\\end{eqnarray}\n",
        "and we know $\\vec{F}=-\\nabla U$ because the electric force is conservative, so:\n",
        "\\begin{eqnarray}\n",
        "    \\vec{E}=\\frac{-\\nabla{U}}{q}.\n",
        "\\end{eqnarray}\n",
        "We divided the gravitational potential energy by $m$ to get the gravitational potential, because the gravitational force depends on the mass of the object feeling the force.  But if we let the electric potential be $V=\\frac{U}{q}$, then\n",
        "\\begin{eqnarray}\n",
        "    \\vec{E}=-\\nabla{V}.\n",
        "\\end{eqnarray}\n",
        "Like $\\vec{\\Gamma}$, the gravitational field, $\\vec{E}$ tells us the direction of the force that will act on the charged objects in the field, and the strength of the force is $F=qE$ with the added complication that, unlike $m$, $q$ could be positive or negative. Negatively charged particles in the $\\vec{E}$ field will travel the opposite direction to positive charges.\n",
        "\n",
        "\n",
        "Since $\\vec{E}=-\\nabla V=$,\n",
        "\\begin{eqnarray}\n",
        "\\vec{E}&=&-\\left(\\frac{\\partial}{\\partial x} \\hat{x}+ \\frac{\\partial}{\\partial y} \\hat{y}+ \\frac{\\partial}{\\partial z} \\hat{z}\\right)V\\\\\n",
        "&=&-\\frac{\\partial V}{\\partial x} \\hat{x}-\\frac{\\partial V}{\\partial y} \\hat{y}-\\frac{\\partial V}{\\partial z} \\hat{z}\n",
        "\\end{eqnarray}\n",
        "so $E_x=-\\frac{\\partial V}{\\partial x}$, $E_y=-\\frac{\\partial V}{\\partial y}$, and $E_z=-\\frac{\\partial V}{\\partial z}$.\n",
        "\n",
        "This means that the force will depend on the ``slope\" of V in each direction.  In three dimensions, that's a bit hard to imagine.  It's easier to visualize if $V=V(x)$ or $V=V(x,y)$, and does not vary with $z.$\n",
        "\n",
        "In Physics 102, you may have or will learn about Gauss's Law, which describes how an electric field is produced by electric charges.  In 102, we learn the integral form:\n",
        "\\begin{eqnarray}\n",
        "\\oint{\\vec{E}\\cdot d\\vec{A}}=\\frac{Q_{enc}}{\\varepsilon_0}=\\frac{1}{\\varepsilon_0}\\int{\\rho}~dV.\n",
        "\\end{eqnarray}\n",
        "where $\\rho$ is the charge density inside a closed surface, and the total charge inside the surface is $Q_{enc}$. The electric field along the surface is $\\vec{E}$.\n",
        "There is also a derivative form that we learn in Physics 340:\n",
        "\\begin{eqnarray}\n",
        "\\nabla\\cdot\\vec{E}=\\frac{\\rho}{\\epsilon_o},\n",
        "\\end{eqnarray}\n",
        "where $\\nabla\\cdot\\vec{E}$ is the gradient of the electric field,\n",
        "\\begin{eqnarray}\n",
        "    \\nabla\\cdot\\vec{E}&=&\\left(\\frac{\\partial}{\\partial x} \\hat{x}+ \\frac{\\partial}{\\partial y} \\hat{y}+ \\frac{\\partial}{\\partial z} \\hat{z}\\right)\\cdot \\vec{E}\\\\\n",
        "    &=&\\left(\\frac{\\partial}{\\partial x} \\hat{x}+ \\frac{\\partial}{\\partial y} \\hat{y}+ \\frac{\\partial}{\\partial z} \\hat{z}\\right)\\cdot (E_x \\hat{x}+ E_y\\hat{y}+E_z\\hat{z})\\\\\n",
        "        &=&\\frac{\\partial E_x}{\\partial x} \\hat{x}\\cdot\\hat{x} + \\frac{\\partial E_y}{\\partial y} \\hat{y}\\cdot\\hat{y}+ \\frac{\\partial E_z}{\\partial z} \\hat{z}\\cdot\\hat{z}\\\\\n",
        "         &=&\\frac{\\partial E_x}{\\partial x}  + \\frac{\\partial E_y}{\\partial y} + \\frac{\\partial E_z}{\\partial z}\n",
        "\\end{eqnarray}\n",
        "We now have the mathematical equipment to deal with something much more complex situation than our simple case of the gravitational field, caused by the spherical Earth below us.\n",
        "\n",
        "We can find how the electric field varies based on some lumpy distribution of charge given by a charge density $\\rho(x,y,z)$.\n",
        "\n",
        "Recall that $E_x=-\\frac{\\partial V}{\\partial x}$, $E_y=-\\frac{\\partial V}{\\partial y}$, and $E_z=-\\frac{\\partial V}{\\partial z}$.  Plugging this in to Gauss's Law:\n",
        "\n",
        "\\begin{eqnarray}\n",
        "\\frac{\\partial E_x}{\\partial x}  + \\frac{\\partial E_y}{\\partial y} + \\frac{\\partial E_z}{\\partial z} &=& \\frac{\\rho} {\\varepsilon_o}\\\\\n",
        "\\frac{\\partial}{\\partial x}\\left(-\\frac{\\partial V}{\\partial x}\\right)  + \\frac{\\partial }{\\partial y} \\left(-\\frac{\\partial V}{\\partial y}\\right) + \\frac{\\partial }{\\partial z}\\left(-\\frac{\\partial V}{\\partial z}\\right)  &=& \\frac{\\rho} {\\varepsilon_o}\\\\\n",
        "\\frac{\\partial^2 V}{\\partial x^2} + \\frac{\\partial^2 V}{\\partial y^2} + \\frac{\\partial^2 V}{\\partial z^2}  &=& -\\frac{\\rho} {\\varepsilon_o}\n",
        "\\end{eqnarray}\n",
        "This is Poisson's Equation. You can also arrive at this by taking $\\nabla\\cdot\\vec{E}=-\\nabla\\cdot\\nabla V$ and working out $\\nabla\\cdot\\nabla=\\nabla^2$, which is called the ''Laplace operator\" or \"Laplacian\", and applying it to $V$.  \n",
        "\n",
        "While we could imagine many complicated distributions of charges, another interesting situation is where $\\rho=0$ in some area, but is not necessarily 0 outside the area. In this situation, we have to solve the second-order partial differential equation:\n",
        "\\begin{eqnarray}\n",
        "    \\frac{\\partial^2 V}{\\partial x^2} + \\frac{\\partial^2 V}{\\partial y^2} + \\frac{\\partial^2 V}{\\partial z^2}  &=& 0\n",
        "\\end{eqnarray}\n",
        "This is called Laplace's Equation, or Poisson's Equation in a vacuum.  It may seem boring, but remember that when solving a differential equation, you must match the boundary conditions, and arrangements of charges outside the vacuum area could certainly create an interesting potential.\n"
      ],
      "metadata": {
        "id": "LDojXO881V8p"
      }
    },
    {
      "cell_type": "markdown",
      "source": [
        "# The Method of Relaxation"
      ],
      "metadata": {
        "id": "Zg9PvT2a7OxE"
      }
    },
    {
      "cell_type": "markdown",
      "source": [
        "\n",
        "Laplace's equation for V can be solved numerically using something called the Method of Relaxation.\n",
        "\n",
        "First, consider the simple case that $V=V_o$ at $x=0$, and $V=0$ at $x=a$.  You can imagine creating this situation with a large charged capacitor with its positively-charged plate in the $x=0$ plane and its negatively-charged plate in the $x=a$ plane, connected to ground.\n",
        "\n",
        "As long as we avoid the edges of the capacitor, $V$ will not depend on $y$ or $z$, only $x$.\n",
        "\n",
        "A numerical approximation to $\\frac{dV}{dx}\\approx\\frac{\\Delta V}{\\Delta x}.$\n",
        "Let's consider the points $x+h$ and $x-h$.  \n",
        "\n",
        "Then\n",
        "\\begin{eqnarray}\n",
        "\\left.\\frac{dV}{dx}\\right|_x &\\approx& \\frac{V(x+h)-V(x-h)}{2h} \\\\\n",
        "\\end{eqnarray}\n",
        "and the numerical approximation to the second derivative is:\n",
        "\\begin{eqnarray}\n",
        "\\frac{d^2 V}{d x^2}&\\approx& \\frac{ \\Delta\\left(\\frac{dV}{dx}\\right)}\n",
        "{\\Delta x}\\\\\n",
        "\\left. \\frac{d^2 V}{d x^2}\\right|_x &\\approx& \\frac{ \\left. \\frac{dV}{dx}\\right|_{x+h}-\\left. \\frac{dV}{dx}\\right|_{x-h}}{2h}\\\\\n",
        "&\\approx& \\frac{\\frac{V(x+h+h)-V(x+h-h)}{h}-\\frac{V(x-h+h)-V(x-h-h)}{2h}}{2h} \\\\\n",
        "&=& \\frac{V(x+2h)-V(x)-[V(x)-V(x-2h)]}{4h^2}\\\\\n",
        "&=& \\frac{V(x+2h)-V(x)-V(x)+V(x-2h)}{4h^2}\\\\\n",
        "&=& \\frac{V(x+2h)-2V(x)+V(x-2h)}{4h^2}\\\\\n",
        "\\end{eqnarray}\n",
        "\n",
        "Laplace's equation says that $\\frac{d^2 V}{dx^2}=0$, sp we can take\n",
        "\\begin{eqnarray}\n",
        "0&=& \\frac{V(x+2h)-2V(x)+V(x-2h)}{4h^2}\\\\\n",
        "0&=& V(x+2h)-2V(x)+V(x-2h)\\\\\n",
        "2V(x)&=& V(x+2h)+V(x-2h)\\\\\n",
        "V(x)&=& \\frac{1}{2}[V(x+2h)+V(x-2h)]\\\\\n",
        "\\end{eqnarray}\n",
        "\n",
        "Since $h$ is just some arbitrary $\\Delta x$, let's change that to\n",
        "\\begin{eqnarray}\n",
        "V(x)= \\frac{1}{2}[V(x+h)+V(x-h)]\n",
        "\\end{eqnarray}\n",
        "which you might recognize just says that $V(x)$ is approximately the average of $V(x+h)$ and $V(x-h)$.\n",
        "\n",
        "This is the equation we can use to find V(x) numerically.  "
      ],
      "metadata": {
        "id": "BtrGYGZKnGA2"
      }
    },
    {
      "cell_type": "markdown",
      "source": [
        "# The Numerical Solution of the Laplace Equation"
      ],
      "metadata": {
        "id": "nvd6jKu97F2S"
      }
    },
    {
      "cell_type": "markdown",
      "source": [
        "# Relaxation Function\n",
        "\n",
        "This implementation of the relaxation method checks for the largest change between the previous V and the more-relaxed V."
      ],
      "metadata": {
        "id": "-BXQRipBK3uY"
      }
    },
    {
      "cell_type": "code",
      "source": [
        "def relax(V):\n",
        "\n",
        "  Vnew=np.copy(V)\n",
        "\n",
        "  for i in range(1,V.size-1):\n",
        "    Vnew[i]=(V[i-1]+V[i+1])/2.\n",
        "\n",
        "  err=np.max(np.abs(Vnew-V))\n",
        "  #print(err)\n",
        "\n",
        "  return [Vnew,err]\n"
      ],
      "metadata": {
        "id": "ta8DekQ5xq72"
      },
      "execution_count": null,
      "outputs": []
    },
    {
      "cell_type": "markdown",
      "source": [
        "## Iterating in a While Loop"
      ],
      "metadata": {
        "id": "0ODD8EBJ7kSK"
      }
    },
    {
      "cell_type": "markdown",
      "source": [
        "The While loop will run until the \"err\" is low enough."
      ],
      "metadata": {
        "id": "Tv7_3V6T0RA5"
      }
    },
    {
      "cell_type": "code",
      "source": [
        "h=1. # Spacing between x points\n",
        "a=10. # Range in meters.\n",
        "\n",
        "# Create an x array using linspace, because arange should not be us for non-integer spacings.\n",
        "n=np.array([a/h+1]) # Need to make n into a numpy array to use np.astype.\n",
        "n=n.astype(int)\n",
        "n=n[0] # Make it back into a scalar (now an integer)\n",
        "\n",
        "x=np.linspace(0,a,num=n)\n",
        "\n",
        "Vstart=np.zeros_like(x)\n",
        "V0=6.\n",
        "Vstart[0]=V0\n",
        "\n",
        "V=Vstart[:]\n",
        "err=1\n",
        "i=1\n",
        "while err>1e-6:\n",
        "  i+=1\n",
        "  V,err=relax(V)\n",
        "\n",
        "print(i,' iterations.')\n",
        "\n",
        "plt.plot(x,V)\n",
        "plt.plot([x[0],x[-1]],[Vstart[0],Vstart[-1]],\"o\")\n",
        "plt.title('Potential in a Capacitor')\n",
        "plt.xlabel('x (m)')\n",
        "plt.ylabel('V (V)')\n",
        "plt.show()"
      ],
      "metadata": {
        "id": "xqDjYm6e4pVn",
        "colab": {
          "base_uri": "https://localhost:8080/",
          "height": 490
        },
        "outputId": "0052e1cb-0432-4aa5-de01-d45a2ceb4771"
      },
      "execution_count": null,
      "outputs": [
        {
          "output_type": "stream",
          "name": "stdout",
          "text": [
            "257  iterations.\n"
          ]
        },
        {
          "output_type": "display_data",
          "data": {
            "text/plain": [
              "<Figure size 640x480 with 1 Axes>"
            ],
            "image/png": "[encoded data removed]"
          },
          "metadata": {}
        }
      ]
    },
    {
      "cell_type": "markdown",
      "source": [
        "We know that $\\vec{E}=-\\nabla V=-\\frac{dV}{dx}\\hat{x}$  in this case.\n",
        "\n",
        "We could code up the numerical approximation to the first derivative, but let's just use numpy, eh?\n"
      ],
      "metadata": {
        "id": "AO7DaIUS1n2T"
      }
    },
    {
      "cell_type": "code",
      "source": [
        "Ex=-np.gradient(V,h)\n",
        "\n",
        "print('E field strength range:',np.max(Ex)-np.min(Ex))\n",
        "\n",
        "fig, ax = plt.subplots()\n",
        "title=' '.join(['E field in a Capacitor: h=',str(h)])\n",
        "ax.set_title(title)\n",
        "\n",
        "ax.plot(x,Ex)\n",
        "ax.set_ylabel('E (N/C)')\n",
        "\n",
        "# This fixes a weird y-axis tick labeling problem\n",
        "ax.yaxis.set_major_formatter(ticker.StrMethodFormatter(\"{x:.6f}\"))\n",
        "\n",
        "ax.set_xlabel='x (m)'\n",
        "fig.show()\n",
        "\n",
        "\n"
      ],
      "metadata": {
        "id": "1Um0UoqAEPyn",
        "colab": {
          "base_uri": "https://localhost:8080/",
          "height": 470
        },
        "outputId": "0b1cfe4c-1616-4631-9d71-0a13ab2a0445"
      },
      "execution_count": null,
      "outputs": [
        {
          "output_type": "stream",
          "name": "stdout",
          "text": [
            "E field strength range: 6.324563848081333e-06\n"
          ]
        },
        {
          "output_type": "display_data",
          "data": {
            "text/plain": [
              "<Figure size 640x480 with 1 Axes>"
            ],
            "image/png": "[encoded data removed]"
          },
          "metadata": {}
        }
      ]
    },
    {
      "cell_type": "markdown",
      "source": [
        "This is a little wobbly toward the ends.  But you wouldn't really expect good results considering how few points we are calculating.  Try this again but make h smaller.\n",
        "\n",
        "\n",
        "\n"
      ],
      "metadata": {
        "id": "C2pU48ZVJYY8"
      }
    },
    {
      "cell_type": "markdown",
      "source": [
        "# Runtime\n",
        "\n",
        "Notice that increasing the number of points has a significant effect on:\n",
        "\n",
        "*   How many iterations the while loop must go through to converge on a potential.\n",
        "*   How long each individual iteration takes.  \n",
        "\n",
        "We can find the time it takes to run certain lines of code using a pair of [time.perf_counter()](https://www.geeksforgeeks.org/time-perf_counter-function-in-python/) calls.\n",
        "\n",
        "* Determine the time per iteration for h=1., 0.1, 0.05, and 0.01, and assess the improvement to the E field calculation.\n",
        "\n",
        "* Is there another number we could change to get better E field results?  Does that introduce another time cost?\n"
      ],
      "metadata": {
        "id": "Hm1A3r8pGB7P"
      }
    },
    {
      "cell_type": "markdown",
      "source": [
        "This will calculate the time per iteration for each h value and print the results. Additionally, it will assess the number of iterations required for convergence. By adjusting the err_threshold, we can control the trade-off between accuracy and computation time. Lowering the err_threshold will increase the accuracy of the E field calculation but may require more iterations and therefore more time to converge. Conversely, increasing the err_threshold may decrease the computation time but at the cost of accuracy.\n",
        "\n",
        "\n",
        "\n",
        "There are a couple of other parameters that could potentially be adjusted to improve the E field results:\n",
        "\n",
        "Grid Density (h): I've already considered changing the grid spacing (h), which affects the spatial resolution of the calculation. Smaller values of h generally result in more accurate results but require more computational resources (memory and time).\n",
        "\n",
        "Error Threshold: The error threshold (err_threshold) determines when the iterative relaxation process stops. Lowering the error threshold can lead to more accurate results, but it may require more iterations, increasing computational time.\n",
        "\n",
        "Boundary Conditions: Depending on the physical problem, changing the boundary conditions may improve the accuracy of the E field calculation. However, adjusting boundary conditions could significantly change the algorithm and might introduce additional complexity or computational costs.\n",
        "\n",
        "Iterative Method: The relaxation method used in the code (Jacobi or Gauss-Seidel relaxation) is a simple iterative method. More sophisticated iterative methods, such as successive over-relaxation (SOR) or multigrid methods, could potentially converge faster and produce more accurate results. However, these methods may also introduce additional implementation complexity and computational costs.\n",
        "\n"
      ],
      "metadata": {
        "id": "paYIuGHwsbCN"
      }
    },
    {
      "cell_type": "code",
      "source": [
        "import numpy as np\n",
        "import matplotlib.pyplot as plt\n",
        "import matplotlib.ticker as ticker\n",
        "import time\n",
        "\n",
        "def relax(V):\n",
        "    Vnew = np.copy(V)\n",
        "    for i in range(1, V.size-1):\n",
        "        Vnew[i] = (V[i-1] + V[i+1]) / 2.\n",
        "    err = np.max(np.abs(Vnew - V))\n",
        "    return [Vnew, err]\n",
        "\n",
        "a = 10.0  # Range in meters.\n",
        "V0 = 6.0\n",
        "err_threshold = 1e-6\n",
        "\n",
        "# Values of h to test\n",
        "h_values = [1.0, 0.1, 0.05, 0.01]\n",
        "\n",
        "for h in h_values:\n",
        "    # Create an x array using linspace\n",
        "    n = int(a / h) + 1\n",
        "    x = np.linspace(0, a, num=n)\n",
        "    Vstart = np.zeros_like(x)\n",
        "    Vstart[0] = V0\n",
        "\n",
        "    V = Vstart[:]\n",
        "    err = err_threshold + 1\n",
        "    i = 0\n",
        "\n",
        "    start_time = time.perf_counter()  # Start timing\n",
        "    while err > err_threshold:\n",
        "        V, err = relax(V)\n",
        "        i += 1\n",
        "    end_time = time.perf_counter()  # End timing\n",
        "\n",
        "    time_per_iteration = (end_time - start_time) / i\n",
        "\n",
        "    print(f\"For h = {h}:\")\n",
        "    print(f\"Number of iterations: {i}\")\n",
        "    print(f\"Time per iteration: {time_per_iteration:.10f} seconds\\n\")\n"
      ],
      "metadata": {
        "id": "DpujASsCFBxf",
        "colab": {
          "base_uri": "https://localhost:8080/"
        },
        "outputId": "0b9d1ed4-8d5d-4e63-e7a5-7ff19b0038dc"
      },
      "execution_count": null,
      "outputs": [
        {
          "output_type": "stream",
          "name": "stdout",
          "text": [
            "For h = 1.0:\n",
            "Number of iterations: 256\n",
            "Time per iteration: 0.0000871693 seconds\n",
            "\n",
            "For h = 0.1:\n",
            "Number of iterations: 16685\n",
            "Time per iteration: 0.0001332608 seconds\n",
            "\n",
            "For h = 0.05:\n",
            "Number of iterations: 55511\n",
            "Time per iteration: 0.0001713314 seconds\n",
            "\n",
            "For h = 0.01:\n",
            "Number of iterations: 735517\n",
            "Time per iteration: 0.0005588318 seconds\n",
            "\n"
          ]
        }
      ]
    }
  ]
}