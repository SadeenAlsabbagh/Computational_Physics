{
  "nbformat": 4,
  "nbformat_minor": 0,
  "metadata": {
    "colab": {
      "provenance": [],
      "include_colab_link": true
    },
    "kernelspec": {
      "name": "python3",
      "display_name": "Python 3"
    },
    "language_info": {
      "name": "python"
    }
  },
  "cells": [
    {
      "cell_type": "markdown",
      "metadata": {
        "id": "view-in-github",
        "colab_type": "text"
      },
      "source": [
        "<a href=\"https://colab.research.google.com/github/SadeenAlsabbagh/Computational_Physics/blob/main/SadeenAlsabbagh_In_Class_Simple_Harmonic_Oscillator_in_Contact_with_Temperature_Bath.ipynb\" target=\"_parent\"><img src=\"https://colab.research.google.com/assets/colab-badge.svg\" alt=\"Open In Colab\"/></a>"
      ]
    },
    {
      "cell_type": "code",
      "execution_count": null,
      "metadata": {
        "id": "n7bEhGHJ8Xon"
      },
      "outputs": [],
      "source": [
        "import numpy as np\n",
        "from sympy import *\n",
        "import random"
      ]
    },
    {
      "cell_type": "markdown",
      "source": [
        "# Simple Harmonic Oscillator in Contact with a Temperature Bath\n",
        "\n",
        "In order to understand the Monte Carlo method, let's begin with the simple harmonic oscillator, with $U_2(x)=\\frac{1}{2}x^2$.  \n",
        "\n",
        "For a one dimensional ideal gas of temperature $T$, the Maxwell-Boltzmann distrubtion (which you can find derived in a Modern Physics, statistical physics or thermodynamics textbook) tells us that the probability of any particle chosen at random has a velocity between $v$ and $dv$ is:\n",
        "\\begin{eqnarray}\n",
        "\\pi(v) dv &=&\\frac{1}{Z}e^{-\\frac{mv^2}{2 kT}} dv\\\\\n",
        "&=&\\frac{1}{Z}e^{-\\beta m v^2 /2} dv\\\\\n",
        "\\end{eqnarray}\n",
        "where $k$ is the Boltzmann constant.  Assuming a constant $T$ for the heat bath (since maintaining a constant $T$ is the whole purpose of a heat bath), we let $\\beta=\\frac{1}{kT}$ be a constant.\n",
        "\n",
        "Z is the normalization constant. The probability that any randomly chosen particle has a speed between 0 and $\\infty$ must be 1, so:\n",
        "\\begin{eqnarray}\n",
        "Z=\\int_{0}^{\\infty}e^{-\\frac{1}{2} \\beta m v^2}dv=\\frac{1}{\\beta} \\sqrt{\\frac{\\pi}{2}}.\n",
        "\\end{eqnarray}\n",
        "so\n",
        "\\begin{eqnarray}\n",
        "\\pi(v) dv &=&\\sqrt{\\frac{2}{\\pi}}\\beta e^{-\\frac{\\beta mv^2}{2}} dv\\\\\n",
        "\\end{eqnarray}\n",
        "\n",
        " Because the temperature $T$ could be any value for the purposes of this calculation, we will, for simplicity, let $\\beta=1$.\n",
        " Also for simplicity, let $m$=1 for all the particles (which are identical.) This leaves\n",
        " \\begin{eqnarray}\n",
        "\\pi(v) dv &=&\\sqrt{\\frac{2}{\\pi}} e^{-\\frac{v^2}{2}} dv.\n",
        "\\end{eqnarray}\n",
        "This distribution describes the velocities, and therefore the kinetic energies energies of the particles in the heat bath.  \n",
        "\n",
        "In the paper, it is given that the distribution of velocities of particles that have *interacted* with the heat bath (in the described manner) is actually:\n",
        "\\begin{eqnarray}\n",
        "\\pi(v) dv &=&\\beta |v| e^{-\\frac{\\beta v^2}{2}} dv\n",
        "\\end{eqnarray}.\n",
        "You can check for yourself that this probability distribution is normalized, i.e. $\\int_0^\\infty\\pi(v)dv=1$.\n",
        "\n"
      ],
      "metadata": {
        "id": "wV0gtK5E8i2B"
      }
    },
    {
      "cell_type": "markdown",
      "source": [
        "We can do this analytical integration the old-fashioned way, but instead, let's use the ```Sympy``` package!  "
      ],
      "metadata": {
        "id": "xvmPjzNaNRbn"
      }
    },
    {
      "cell_type": "markdown",
      "source": [
        "\\begin{eqnarray}\n",
        "\\ K_D &=&\\frac{1}{Z}e^{-\\ m v^2 /2KT} \\\\\n",
        "\\end{eqnarray}\n",
        "\n",
        "\\begin{eqnarray}\n",
        "\\ K_3 &=&\\frac{1}{Z}e^{-\\ m/2KT(V^2_x+V^2_y+V^2_z)} \\\\\n",
        "\\end{eqnarray}\n"
      ],
      "metadata": {
        "id": "Eu-Hmv2_Y5dz"
      }
    },
    {
      "cell_type": "code",
      "source": [
        "v = Symbol('v')"
      ],
      "metadata": {
        "id": "csZhM4eJbdg0"
      },
      "execution_count": null,
      "outputs": []
    },
    {
      "cell_type": "code",
      "source": [
        "p = v*exp(-v**2/2)\n",
        "print= integrate(p,v)\n",
        "F = integrate (p,v)\n",
        "F.subs(v,0) -F.subs(v,oo)\n",
        "\n",
        "integrate(p,(v,0,oo))\n",
        "\n",
        "# -exp(-v**2/2)"
      ],
      "metadata": {
        "id": "MkjaWYvRaDzK",
        "colab": {
          "base_uri": "https://localhost:8080/",
          "height": 37
        },
        "outputId": "2ab8b940-406a-4adb-de88-ad21a54dba0d"
      },
      "execution_count": null,
      "outputs": [
        {
          "output_type": "execute_result",
          "data": {
            "text/plain": [
              "1"
            ],
            "text/latex": "$\\displaystyle 1$"
          },
          "metadata": {},
          "execution_count": 3
        }
      ]
    },
    {
      "cell_type": "code",
      "source": [
        "plotting.plot(p)"
      ],
      "metadata": {
        "colab": {
          "base_uri": "https://localhost:8080/",
          "height": 504
        },
        "id": "jhDbzVOubw0J",
        "outputId": "83b2cd8a-22d4-468b-d1e2-ca709ff8ce35"
      },
      "execution_count": null,
      "outputs": [
        {
          "output_type": "display_data",
          "data": {
            "text/plain": [
              "<Figure size 640x480 with 1 Axes>"
            ],
            "image/png": "[encoded data removed]"
          },
          "metadata": {}
        },
        {
          "output_type": "execute_result",
          "data": {
            "text/plain": [
              "<sympy.plotting.plot.Plot at 0x7b8fbb0b2320>"
            ]
          },
          "metadata": {},
          "execution_count": 4
        }
      ]
    },
    {
      "cell_type": "code",
      "source": [
        "plotting.plot(p,F+1,(v,0,20))"
      ],
      "metadata": {
        "colab": {
          "base_uri": "https://localhost:8080/",
          "height": 501
        },
        "id": "dmIHwES4c5B9",
        "outputId": "05ba4da4-4cd5-4af9-df4d-b7408fa47e4a"
      },
      "execution_count": null,
      "outputs": [
        {
          "output_type": "display_data",
          "data": {
            "text/plain": [
              "<Figure size 640x480 with 1 Axes>"
            ],
            "image/png": "[encoded data removed]"
          },
          "metadata": {}
        },
        {
          "output_type": "execute_result",
          "data": {
            "text/plain": [
              "<sympy.plotting.plot.Plot at 0x7b8fb8a4dde0>"
            ]
          },
          "metadata": {},
          "execution_count": 14
        }
      ]
    },
    {
      "cell_type": "code",
      "source": [
        "rrayy=[]\n",
        "for i in range(10000):\n",
        "  vrray.append(np.sqrt(-2.0*np.log(random.random())))"
      ],
      "metadata": {
        "id": "x7L3lSe0eurp"
      },
      "execution_count": null,
      "outputs": []
    },
    {
      "cell_type": "code",
      "source": [
        "print(rrayy)"
      ],
      "metadata": {
        "colab": {
          "base_uri": "https://localhost:8080/",
          "height": 141
        },
        "id": "Pw96_5wrgVZr",
        "outputId": "c3dceb65-273c-4b85-b409-bd834ba9cfc3"
      },
      "execution_count": null,
      "outputs": [
        {
          "output_type": "error",
          "ename": "TypeError",
          "evalue": "'Mul' object is not callable",
          "traceback": [
            "\u001b[0;31m---------------------------------------------------------------------------\u001b[0m",
            "\u001b[0;31mTypeError\u001b[0m                                 Traceback (most recent call last)",
            "\u001b[0;32m<ipython-input-16-d73f271552b8>\u001b[0m in \u001b[0;36m<cell line: 1>\u001b[0;34m()\u001b[0m\n\u001b[0;32m----> 1\u001b[0;31m \u001b[0mprint\u001b[0m\u001b[0;34m(\u001b[0m\u001b[0mrrayy\u001b[0m\u001b[0;34m)\u001b[0m\u001b[0;34m\u001b[0m\u001b[0;34m\u001b[0m\u001b[0m\n\u001b[0m",
            "\u001b[0;31mTypeError\u001b[0m: 'Mul' object is not callable"
          ]
        }
      ]
    },
    {
      "cell_type": "code",
      "source": [
        "import numpy as np\n",
        "from sympy import *\n",
        "import random\n",
        "\n",
        "# Define the symbol\n",
        "v = Symbol('v')\n",
        "\n",
        "# Define the expression\n",
        "p = v * exp(-v**2/2)\n",
        "\n",
        "# Integrate the expression\n",
        "F = integrate(p, v)\n",
        "\n",
        "# Evaluate the integral at limits\n",
        "result = F.subs(v, 0) - F.subs(v, oo)\n",
        "\n",
        "# Convert the symbolic result to a numerical value\n",
        "numerical_result = result.evalf()\n",
        "\n",
        "# Print the numerical result\n",
        "print(numerical_result)\n",
        "\n",
        "# Generate random numbers and store them in an array\n",
        "vrray = []\n",
        "for i in range(10000):\n",
        "    vrray.append(np.sqrt(-2.0 * np.log(random.random())))\n",
        "\n",
        "# Print the array of random numbers\n",
        "print(vrray)\n"
      ],
      "metadata": {
        "colab": {
          "base_uri": "https://localhost:8080/",
          "height": 211
        },
        "id": "z1AVQYjMAMXM",
        "outputId": "0cd39fe1-3105-42e9-ec6d-d24090984ca2"
      },
      "execution_count": null,
      "outputs": [
        {
          "output_type": "error",
          "ename": "TypeError",
          "evalue": "'Mul' object is not callable",
          "traceback": [
            "\u001b[0;31m---------------------------------------------------------------------------\u001b[0m",
            "\u001b[0;31mTypeError\u001b[0m                                 Traceback (most recent call last)",
            "\u001b[0;32m<ipython-input-19-46962bd54616>\u001b[0m in \u001b[0;36m<cell line: 21>\u001b[0;34m()\u001b[0m\n\u001b[1;32m     19\u001b[0m \u001b[0;34m\u001b[0m\u001b[0m\n\u001b[1;32m     20\u001b[0m \u001b[0;31m# Print the numerical result\u001b[0m\u001b[0;34m\u001b[0m\u001b[0;34m\u001b[0m\u001b[0m\n\u001b[0;32m---> 21\u001b[0;31m \u001b[0mprint\u001b[0m\u001b[0;34m(\u001b[0m\u001b[0mnumerical_result\u001b[0m\u001b[0;34m)\u001b[0m\u001b[0;34m\u001b[0m\u001b[0;34m\u001b[0m\u001b[0m\n\u001b[0m\u001b[1;32m     22\u001b[0m \u001b[0;34m\u001b[0m\u001b[0m\n\u001b[1;32m     23\u001b[0m \u001b[0;31m# Generate random numbers and store them in an array\u001b[0m\u001b[0;34m\u001b[0m\u001b[0;34m\u001b[0m\u001b[0m\n",
            "\u001b[0;31mTypeError\u001b[0m: 'Mul' object is not callable"
          ]
        }
      ]
    }
  ]
}