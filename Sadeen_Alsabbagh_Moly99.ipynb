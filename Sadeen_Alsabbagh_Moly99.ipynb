{
  "nbformat": 4,
  "nbformat_minor": 0,
  "metadata": {
    "colab": {
      "provenance": [],
      "include_colab_link": true
    },
    "kernelspec": {
      "name": "python3",
      "display_name": "Python 3"
    },
    "language_info": {
      "name": "python"
    }
  },
  "cells": [
    {
      "cell_type": "markdown",
      "metadata": {
        "id": "view-in-github",
        "colab_type": "text"
      },
      "source": [
        "<a href=\"https://colab.research.google.com/github/SadeenAlsabbagh/Computational_Physics/blob/main/Sadeen_Alsabbagh_Moly99.ipynb\" target=\"_parent\"><img src=\"https://colab.research.google.com/assets/colab-badge.svg\" alt=\"Open In Colab\"/></a>"
      ]
    },
    {
      "cell_type": "markdown",
      "source": [
        "# Radioactive Decay of Molybdenum\n",
        "\n",
        "## Introduction\n",
        "\n",
        "You will find the [Introduction to Computational Physics](https://compphysics.readthedocs.io/index.html) online textbook a useful introduction to Python.  **Read Chapter 1.**  \n",
        "\n",
        "As you read [Section 1.1](https://compphysics.readthedocs.io/python/intropython.html#the-ides), note that Google Colab is an implementation of the Jupyter notebook.\n",
        "\n",
        "For this exercise, you will want to carefully read [Section 1.2\n",
        "](https://compphysics.readthedocs.io/python/intropython.html#variables-data-types-and-operations\n",
        ").\n",
        "\n"
      ],
      "metadata": {
        "id": "5tiIwvoxlBRy"
      }
    },
    {
      "cell_type": "markdown",
      "source": [
        "## The Problem: Predict and then Simulate the Radioactive Decay of Molybdenum-99.\n",
        "\n",
        "---\n",
        "\n"
      ],
      "metadata": {
        "id": "nKJoqAOEtkQg"
      }
    },
    {
      "cell_type": "code",
      "execution_count": null,
      "metadata": {
        "id": "Gcz68N5qb1S2"
      },
      "outputs": [],
      "source": [
        "## We will begin with 1000 atoms of Molybdenum99.  Mo-99 has a halflife of 2.7459 days.\n",
        "startingAmountOfMo=1000;\n",
        "halflife=2.7489;"
      ]
    },
    {
      "cell_type": "markdown",
      "source": [
        "The following is a nïave attempt to make a list of times, where each time is an integer number of halflives.  This ends in tears.  Python will not let us multiply a list by a float. What if our number of half days were an integer, though?  If we round halflife to  3 will it work? **Replace the variable halflife below with the number 3.**"
      ],
      "metadata": {
        "id": "I6Gk46ppwydZ"
      }
    },
    {
      "cell_type": "code",
      "source": [
        "badTimes=[0,1,2,3,4,5];\n",
        "badTimes = 3*[badTimes];\n",
        "print(badTimes);\n"
      ],
      "metadata": {
        "colab": {
          "base_uri": "https://localhost:8080/"
        },
        "id": "rLguLA-5lSID",
        "outputId": "7dc86eb2-5336-46c4-e3ba-aab778efbd81"
      },
      "execution_count": null,
      "outputs": [
        {
          "output_type": "stream",
          "name": "stdout",
          "text": [
            "[[0, 1, 2, 3, 4, 5], [0, 1, 2, 3, 4, 5], [0, 1, 2, 3, 4, 5]]\n"
          ]
        }
      ]
    },
    {
      "cell_type": "markdown",
      "source": [
        "**Edit this text block to answer the following question.**\n",
        "\n",
        "Did multiplying the list badTimes by the integer 3 multiply each element of the list by 3?  Yes or no.\n",
        "\n",
        "\n",
        "no"
      ],
      "metadata": {
        "id": "jVt7rLdnyJ0d"
      }
    },
    {
      "cell_type": "markdown",
      "source": [
        "**Comment out the not-good code above so that it doesn't stop the compilation of the notebook.**"
      ],
      "metadata": {
        "id": "yT0dNpKwlEu1"
      }
    },
    {
      "cell_type": "markdown",
      "source": [
        "If you are an experienced programmer, you can probably think of several efficient ways to make the list of times that we need, and later we will discuss some more elegant methods. However, for this exercise, we will take a somewhat kludgy approach.\n",
        "\n",
        "**I have made a list of four times.  Extend this list yourself to at least 7 halflives.**"
      ],
      "metadata": {
        "id": "Unsv97jougCC"
      }
    },
    {
      "cell_type": "code",
      "source": [
        "times=[0, halflife*1, halflife*2, halflife*3, halflife*4, halflife*5, halflife*6, halflife*7, halflife*8, halflife*9];"
      ],
      "metadata": {
        "id": "TVKphPaoocP5"
      },
      "execution_count": null,
      "outputs": []
    },
    {
      "cell_type": "code",
      "source": [
        "# Make sure this actually worked the way we were expecting\n",
        "print(times);"
      ],
      "metadata": {
        "colab": {
          "base_uri": "https://localhost:8080/"
        },
        "id": "MFibKoAiu4qt",
        "outputId": "6ab893a9-5597-4427-caed-3bc8a0d928fc"
      },
      "execution_count": null,
      "outputs": [
        {
          "output_type": "stream",
          "name": "stdout",
          "text": [
            "[0, 2.7489, 5.4978, 8.2467, 10.9956, 13.744499999999999, 16.4934, 19.2423, 21.9912, 24.740099999999998]\n"
          ]
        }
      ]
    },
    {
      "cell_type": "markdown",
      "source": [
        "We can use our experience from the Google Sheet to determine the number of atoms after several halflives have passed.  Again, this is a terrible method, but it will give us some data to play with.\n",
        "\n",
        "**I have listed four times. Extend the list below so that it has the same number of entries as the list of times above.**"
      ],
      "metadata": {
        "id": "qevIqT0JvVWt"
      }
    },
    {
      "cell_type": "code",
      "source": [
        "amountOfMo=[startingAmountOfMo, startingAmountOfMo*0.5,startingAmountOfMo*0.5**2,startingAmountOfMo*0.5**3, startingAmountOfMo*0.5**4, startingAmountOfMo*0.5**5, startingAmountOfMo*0.5**6, startingAmountOfMo*0.5**7, startingAmountOfMo*0.5**8, startingAmountOfMo*0.5**9]"
      ],
      "metadata": {
        "id": "aG0kb8e_vS3Z"
      },
      "execution_count": null,
      "outputs": []
    },
    {
      "cell_type": "code",
      "source": [
        "# Of course, we should print the result and make sure it did exactly what we wanted it to.\n",
        "print(amountOfMo)"
      ],
      "metadata": {
        "colab": {
          "base_uri": "https://localhost:8080/"
        },
        "id": "0EHRjxkLu6nP",
        "outputId": "4368ae3f-6b90-4cc1-c748-06bbb888090e"
      },
      "execution_count": null,
      "outputs": [
        {
          "output_type": "stream",
          "name": "stdout",
          "text": [
            "[1000, 500.0, 250.0, 125.0, 62.5, 31.25, 15.625, 7.8125, 3.90625, 1.953125]\n"
          ]
        }
      ]
    },
    {
      "cell_type": "markdown",
      "source": [
        "## Challenge\n",
        "To display our results, write code using a print statement that will print each time an the corresponding amount of Mo atoms on its own line.  (Hint: see Section 1.4.)\n",
        "\n",
        "The result should look something like this:\n",
        "\n",
        "\n",
        "```\n",
        "0   1000\n",
        "2.7489   500.0\n",
        "5.4978   250.0\n",
        "8.2467   125.0\n",
        "```"
      ],
      "metadata": {
        "id": "CdPaOa0OygN0"
      }
    },
    {
      "cell_type": "code",
      "source": [
        "#Print Headers\n",
        "\n",
        "print(\"Times\\tAmountOfMo\")\n",
        "print(\"_____________________\")\n",
        "\n",
        "#Rounding up the values to 3 decimal places so they fit in the table\n",
        "rounded_times = [round(value,3) for value in times]\n",
        "rounded_amountOfMo = [round (value,3) for value in amountOfMo]\n",
        "\n",
        "#Iteriate through both lists\n",
        "for index, (val1, val2) in enumerate (zip(rounded_times, rounded_amountOfMo)):\n",
        "  print(f\" {val1}\\t{val2}\")"
      ],
      "metadata": {
        "id": "k-axWdXVoS1m",
        "colab": {
          "base_uri": "https://localhost:8080/"
        },
        "outputId": "5148c009-a4be-474c-c826-ca7e06efefad"
      },
      "execution_count": null,
      "outputs": [
        {
          "output_type": "stream",
          "name": "stdout",
          "text": [
            "Times\tAmountOfMo\n",
            "_____________________\n",
            " 0\t1000\n",
            " 2.749\t500.0\n",
            " 5.498\t250.0\n",
            " 8.247\t125.0\n",
            " 10.996\t62.5\n",
            " 13.744\t31.25\n",
            " 16.493\t15.625\n",
            " 19.242\t7.812\n",
            " 21.991\t3.906\n",
            " 24.74\t1.953\n"
          ]
        }
      ]
    }
  ]
}